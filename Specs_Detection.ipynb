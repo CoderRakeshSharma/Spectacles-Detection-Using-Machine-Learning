{
 "cells": [
  {
   "cell_type": "code",
   "execution_count": 1,
   "id": "2bf8c866",
   "metadata": {},
   "outputs": [],
   "source": [
    "import numpy as np \n",
    "import cv2\n",
    "from sklearn.svm import SVC\n",
    "from sklearn.metrics import accuracy_score\n",
    "from sklearn.model_selection import train_test_split"
   ]
  },
  {
   "cell_type": "code",
   "execution_count": 2,
   "id": "be6e0f1e",
   "metadata": {},
   "outputs": [],
   "source": [
    "with_specs = np.load(\"With_specs.npy\")\n",
    "without_specs = np.load(\"Without_specs.npy\")"
   ]
  },
  {
   "cell_type": "code",
   "execution_count": 3,
   "id": "d2a06a10",
   "metadata": {},
   "outputs": [
    {
     "data": {
      "text/plain": [
       "(200, 50, 50, 3)"
      ]
     },
     "execution_count": 3,
     "metadata": {},
     "output_type": "execute_result"
    }
   ],
   "source": [
    "with_specs.shape"
   ]
  },
  {
   "cell_type": "code",
   "execution_count": 4,
   "id": "66747333",
   "metadata": {},
   "outputs": [
    {
     "data": {
      "text/plain": [
       "(200, 50, 50, 3)"
      ]
     },
     "execution_count": 4,
     "metadata": {},
     "output_type": "execute_result"
    }
   ],
   "source": [
    "without_specs.shape"
   ]
  },
  {
   "cell_type": "code",
   "execution_count": 5,
   "id": "fd879c16",
   "metadata": {},
   "outputs": [],
   "source": [
    "with_specs = with_specs.reshape(200,50 * 50 * 3)\n",
    "without_specs = without_specs.reshape(200,50 * 50 * 3)"
   ]
  },
  {
   "cell_type": "code",
   "execution_count": 6,
   "id": "2e55326a",
   "metadata": {},
   "outputs": [
    {
     "data": {
      "text/plain": [
       "(200, 7500)"
      ]
     },
     "execution_count": 6,
     "metadata": {},
     "output_type": "execute_result"
    }
   ],
   "source": [
    "with_specs.shape"
   ]
  },
  {
   "cell_type": "code",
   "execution_count": 7,
   "id": "a68a3c25",
   "metadata": {},
   "outputs": [
    {
     "data": {
      "text/plain": [
       "(200, 7500)"
      ]
     },
     "execution_count": 7,
     "metadata": {},
     "output_type": "execute_result"
    }
   ],
   "source": [
    "without_specs.shape"
   ]
  },
  {
   "cell_type": "code",
   "execution_count": 8,
   "id": "fe221219",
   "metadata": {},
   "outputs": [],
   "source": [
    "X = np.r_[with_specs, without_specs]"
   ]
  },
  {
   "cell_type": "code",
   "execution_count": 9,
   "id": "c7b95560",
   "metadata": {},
   "outputs": [
    {
     "data": {
      "text/plain": [
       "(400, 7500)"
      ]
     },
     "execution_count": 9,
     "metadata": {},
     "output_type": "execute_result"
    }
   ],
   "source": [
    "X.shape"
   ]
  },
  {
   "cell_type": "code",
   "execution_count": 10,
   "id": "966f2aae",
   "metadata": {},
   "outputs": [],
   "source": [
    "# Labeling of Data \n",
    "# First 200 with Specs or next 200 without Specs \n",
    "# with Specs will labeled as 0 \n",
    "# without Specs will labeled as 1 \n",
    "labels = np.zeros(X.shape[0]) "
   ]
  },
  {
   "cell_type": "code",
   "execution_count": 11,
   "id": "c141095f",
   "metadata": {},
   "outputs": [],
   "source": [
    "labels[200:] = 1.0"
   ]
  },
  {
   "cell_type": "code",
   "execution_count": 12,
   "id": "e2c7a462",
   "metadata": {},
   "outputs": [],
   "source": [
    "names = {0 : \"SPECS\", 1 : 'No SPECS'}"
   ]
  },
  {
   "cell_type": "code",
   "execution_count": 13,
   "id": "c6a353a8",
   "metadata": {},
   "outputs": [],
   "source": [
    "x_train, x_test, y_train, y_test = train_test_split(X, labels,test_size=0.25)\n"
   ]
  },
  {
   "cell_type": "code",
   "execution_count": 14,
   "id": "c1fbaf40",
   "metadata": {},
   "outputs": [
    {
     "data": {
      "text/plain": [
       "(300, 7500)"
      ]
     },
     "execution_count": 14,
     "metadata": {},
     "output_type": "execute_result"
    }
   ],
   "source": [
    "x_train.shape"
   ]
  },
  {
   "cell_type": "code",
   "execution_count": 15,
   "id": "11b278e2",
   "metadata": {},
   "outputs": [
    {
     "data": {
      "text/plain": [
       "SVC()"
      ]
     },
     "execution_count": 15,
     "metadata": {},
     "output_type": "execute_result"
    }
   ],
   "source": [
    "svm = SVC()\n",
    "svm.fit(x_train,y_train)"
   ]
  },
  {
   "cell_type": "code",
   "execution_count": 16,
   "id": "b898cbe0",
   "metadata": {},
   "outputs": [
    {
     "data": {
      "text/plain": [
       "1.0"
      ]
     },
     "execution_count": 16,
     "metadata": {},
     "output_type": "execute_result"
    }
   ],
   "source": [
    "y_pred = svm.predict(x_test)\n",
    "accuracy_score(y_test, y_pred)"
   ]
  },
  {
   "cell_type": "code",
   "execution_count": 18,
   "id": "66c748d6",
   "metadata": {},
   "outputs": [],
   "source": [
    "haar_data = cv2.CascadeClassifier('spec.xml')\n",
    "capture = cv2.VideoCapture(0)\n",
    "font = cv2.FONT_HERSHEY_DUPLEX\n",
    "while True :\n",
    "    flag, img = capture.read()\n",
    "    if flag : \n",
    "        faces = haar_data.detectMultiScale(img)\n",
    "        for x,y,w,h in faces :\n",
    "            cv2.rectangle(img, (x,y), (x+w, y+h), (245,224,69), 2)\n",
    "            face = img[y:y+h , x:x+w, :]\n",
    "            face = cv2.resize(face,(50,50))\n",
    "            face = face.reshape(1,-1)\n",
    "            pred = svm.predict(face)[0]\n",
    "            n = names[int(pred)]\n",
    "            cv2.putText(img, n, (x,y), font , 1 , (244,250,250),2)\n",
    "            #print(n)\n",
    "        cv2.imshow('Detecting Specs..!',img)\n",
    "        if cv2.waitKey(2) == 27 :\n",
    "            break\n",
    "\n",
    "capture.release()\n",
    "cv2.destroyAllWindows()"
   ]
  },
  {
   "cell_type": "code",
   "execution_count": null,
   "id": "dcfb9cce",
   "metadata": {},
   "outputs": [],
   "source": []
  }
 ],
 "metadata": {
  "kernelspec": {
   "display_name": "Python 3 (ipykernel)",
   "language": "python",
   "name": "python3"
  },
  "language_info": {
   "codemirror_mode": {
    "name": "ipython",
    "version": 3
   },
   "file_extension": ".py",
   "mimetype": "text/x-python",
   "name": "python",
   "nbconvert_exporter": "python",
   "pygments_lexer": "ipython3",
   "version": "3.9.13"
  }
 },
 "nbformat": 4,
 "nbformat_minor": 5
}
